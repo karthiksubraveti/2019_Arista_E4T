{
 "cells": [
  {
   "cell_type": "markdown",
   "metadata": {},
   "source": [
    "## Conditionals"
   ]
  },
  {
   "cell_type": "markdown",
   "metadata": {},
   "source": [
    "In lot of programs we might need to check a value of a variable and take different<br>\n",
    "actions based on the value of the variable. \n",
    "\n",
    "For e.g: <br>\n",
    "\"day\" is a variable which can be \"Monday\", \"Tuesday\", \"Wednesday\", \"Thursday\", \"Friday\", \"Saturday\" or \"Sunday\".<br>\n",
    "\n",
    "if \"day\" is \"Monday\", \"Tuesday\", \"Wednesday\", \"Thursday\", \"Friday\" then it is a working day\n",
    "If \"day\" is \"Saturday\" and \"Sunday\" then it is a holiday. \n",
    "\n",
    "Let's see how this can be implemented in action"
   ]
  },
  {
   "cell_type": "code",
   "execution_count": 5,
   "metadata": {},
   "outputs": [
    {
     "name": "stdout",
     "output_type": "stream",
     "text": [
      "Enter the day :Sunday\n",
      "Today is a Holiday\n"
     ]
    }
   ],
   "source": [
    "# If statements\n",
    "day = input(\"Enter the day :\" ).lower()\n",
    "if day == \"saturday\" or day == \"sunday\":\n",
    "    print(\"Today is a Holiday\")\n",
    "else:\n",
    "    print(\"Today is a working day\")"
   ]
  },
  {
   "cell_type": "code",
   "execution_count": 8,
   "metadata": {},
   "outputs": [
    {
     "name": "stdout",
     "output_type": "stream",
     "text": [
      "Enter the grade :5\n",
      "You are a middle schooler\n"
     ]
    }
   ],
   "source": [
    "# condition to decide whether you are going to elementary, middle or high school\n",
    "grade = input(\"Enter the grade :\" ).lower()\n",
    "grade = int(grade)\n",
    "if grade >=5 and grade <= 8:\n",
    "    print(\"You are a middle schooler\")\n",
    "else:\n",
    "    print(\"You are not a middle schooler\")"
   ]
  },
  {
   "cell_type": "code",
   "execution_count": null,
   "metadata": {},
   "outputs": [],
   "source": []
  }
 ],
 "metadata": {
  "kernelspec": {
   "display_name": "Python 3",
   "language": "python",
   "name": "python3"
  },
  "language_info": {
   "codemirror_mode": {
    "name": "ipython",
    "version": 3
   },
   "file_extension": ".py",
   "mimetype": "text/x-python",
   "name": "python",
   "nbconvert_exporter": "python",
   "pygments_lexer": "ipython3",
   "version": "3.7.3"
  }
 },
 "nbformat": 4,
 "nbformat_minor": 2
}
