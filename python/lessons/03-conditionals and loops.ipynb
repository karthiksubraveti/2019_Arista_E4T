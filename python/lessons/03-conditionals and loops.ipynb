{
 "cells": [
  {
   "cell_type": "markdown",
   "metadata": {},
   "source": [
    "## Conditionals"
   ]
  },
  {
   "cell_type": "markdown",
   "metadata": {},
   "source": [
    "In lot of programs we might need to check a value of a variable and take different<br>\n",
    "actions based on the value of the variable. \n",
    "\n",
    "For e.g: <br>\n",
    "\"day\" is a variable which can be \"Monday\", \"Tuesday\", \"Wednesday\", \"Thursday\", \"Friday\", \"Saturday\" or \"Sunday\".<br>\n",
    "\n",
    "if \"day\" is \"Monday\", \"Tuesday\", \"Wednesday\", \"Thursday\", \"Friday\" then it is a working day\n",
    "If \"day\" is \"Saturday\" and \"Sunday\" then it is a holiday. \n",
    "\n",
    "Let's see how this can be implemented in action"
   ]
  },
  {
   "cell_type": "code",
   "execution_count": 5,
   "metadata": {},
   "outputs": [
    {
     "name": "stdout",
     "output_type": "stream",
     "text": [
      "Enter the day :Sunday\n",
      "Today is a Holiday\n"
     ]
    }
   ],
   "source": [
    "# If statements\n",
    "day = input(\"Enter the day :\" ).lower()\n",
    "if day == \"saturday\" or day == \"sunday\":\n",
    "    print(\"Today is a Holiday\")\n",
    "else:\n",
    "    print(\"Today is a working day\")"
   ]
  },
  {
   "cell_type": "code",
   "execution_count": 10,
   "metadata": {},
   "outputs": [
    {
     "name": "stdout",
     "output_type": "stream",
     "text": [
      "Enter the grade :9\n",
      "You are not a middle schooler\n"
     ]
    }
   ],
   "source": [
    "# condition to decide whether you are going to elementary, middle or high school\n",
    "grade = input(\"Enter the grade :\" ).lower()\n",
    "grade = int(grade)\n",
    "if grade >=5 and grade <= 8:\n",
    "    print(\"You are a middle schooler\")\n",
    "else:\n",
    "    print(\"You are not a middle schooler\")"
   ]
  },
  {
   "cell_type": "markdown",
   "metadata": {},
   "source": [
    "## Loops"
   ]
  },
  {
   "cell_type": "markdown",
   "metadata": {},
   "source": [
    "Computers are really good at doing repetitive tasks. Loops in python can be used to perform \n",
    "some action for number of times or till some condition is valid.\n",
    "\n",
    "For e.g:\n",
    "* You might want to loop over all the days of the week and print the days which are holidays\n",
    "and the ones which are working days\n",
    "* You might want to loop over numbers to add them up"
   ]
  },
  {
   "cell_type": "code",
   "execution_count": 15,
   "metadata": {},
   "outputs": [
    {
     "name": "stdout",
     "output_type": "stream",
     "text": [
      "monday is a working day\n",
      "tuesday is a working day\n",
      "wednesday is a working day\n",
      "thursday is a working day\n",
      "friday is a working day\n",
      "saturday is a Holiday\n",
      "sunday is a Holiday\n"
     ]
    }
   ],
   "source": [
    "for day in [\"monday\", \"tuesday\", \"wednesday\", \"thursday\", \"friday\", \"saturday\", \"sunday\"]:\n",
    "    if day == \"saturday\" or day == \"sunday\":\n",
    "        print(day , \"is a Holiday\")\n",
    "    else:\n",
    "        print(day, \"is a working day\")"
   ]
  },
  {
   "cell_type": "code",
   "execution_count": 16,
   "metadata": {},
   "outputs": [
    {
     "name": "stdout",
     "output_type": "stream",
     "text": [
      "10\n"
     ]
    }
   ],
   "source": [
    "sum = 0\n",
    "for num in [0, 1, 2, 3, 4]:\n",
    "    sum = sum + num\n",
    "print(sum)"
   ]
  },
  {
   "cell_type": "code",
   "execution_count": 17,
   "metadata": {},
   "outputs": [
    {
     "name": "stdout",
     "output_type": "stream",
     "text": [
      "the number is  0\n",
      "the number is  1\n",
      "the number is  2\n",
      "the number is  3\n",
      "the number is  4\n",
      "the number is  5\n",
      "the number is  6\n",
      "the number is  7\n",
      "the number is  8\n",
      "the number is  9\n"
     ]
    }
   ],
   "source": [
    "for i in range(10):\n",
    "    print(\"the number is \", i)"
   ]
  },
  {
   "cell_type": "markdown",
   "metadata": {},
   "source": [
    "### Loops with conditionals"
   ]
  },
  {
   "cell_type": "code",
   "execution_count": 18,
   "metadata": {},
   "outputs": [
    {
     "name": "stdout",
     "output_type": "stream",
     "text": [
      "Enter a number1\n",
      "number is  1\n",
      "Enter a number20\n",
      "number is  20\n",
      "Enter a number30\n",
      "number is  30\n",
      "Enter a number10\n"
     ]
    }
   ],
   "source": [
    "# lets have a loop to check odd number\n",
    "num = int(input(\"Enter a number\"))\n",
    "while num != 10:\n",
    "    print(\"number is \", num)\n",
    "    num = int(input(\"Enter a number\"))"
   ]
  }
 ],
 "metadata": {
  "kernelspec": {
   "display_name": "Python 3",
   "language": "python",
   "name": "python3"
  },
  "language_info": {
   "codemirror_mode": {
    "name": "ipython",
    "version": 3
   },
   "file_extension": ".py",
   "mimetype": "text/x-python",
   "name": "python",
   "nbconvert_exporter": "python",
   "pygments_lexer": "ipython3",
   "version": "3.7.3"
  }
 },
 "nbformat": 4,
 "nbformat_minor": 2
}
