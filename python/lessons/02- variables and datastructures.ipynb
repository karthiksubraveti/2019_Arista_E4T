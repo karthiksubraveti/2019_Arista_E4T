{
 "cells": [
  {
   "cell_type": "markdown",
   "metadata": {},
   "source": [
    "## Variables"
   ]
  },
  {
   "cell_type": "markdown",
   "metadata": {},
   "source": [
    "Variable is a name attached to a particular object.<br>\n",
    "\n",
    "Examples:\n",
    "\"teacher\" is a variable which can be attached to the name of your teachers. <br>\n",
    "teacher = \"Anna\"<br>\n",
    "\n",
    "\"subject\" is a variable that be attached to \"maths\", \"science\", \"art\" etc <br>\n",
    "\n",
    "\"pizza_slice_count\" is a variable attached to the number of slices of pizza<br>\n",
    "\n",
    "\n",
    "Let's assign some variables"
   ]
  },
  {
   "cell_type": "code",
   "execution_count": 2,
   "metadata": {},
   "outputs": [
    {
     "name": "stdout",
     "output_type": "stream",
     "text": [
      "my favourite teacher is  Anna\n"
     ]
    }
   ],
   "source": [
    "teacher = \"Anna\"\n",
    "print(\"my favourite teacher is \", teacher)"
   ]
  },
  {
   "cell_type": "code",
   "execution_count": 3,
   "metadata": {},
   "outputs": [
    {
     "name": "stdout",
     "output_type": "stream",
     "text": [
      "my favourite subject is  computer science\n"
     ]
    }
   ],
   "source": [
    "subject = \"computer science\"\n",
    "print(\"my favourite subject is \", subject)"
   ]
  },
  {
   "cell_type": "code",
   "execution_count": 5,
   "metadata": {},
   "outputs": [
    {
     "name": "stdout",
     "output_type": "stream",
     "text": [
      "I ate  3  pizzas last weekend\n"
     ]
    }
   ],
   "source": [
    "pizza_slice_count = 3\n",
    "print(\"I ate \", pizza_slice_count, \" pizzas last weekend\")"
   ]
  },
  {
   "cell_type": "code",
   "execution_count": 8,
   "metadata": {},
   "outputs": [
    {
     "name": "stdout",
     "output_type": "stream",
     "text": [
      "I ate  3  pizzas last weekend\n",
      "I will eat  2  pizzas last weekend\n"
     ]
    }
   ],
   "source": [
    "pizza_slice_count = 3\n",
    "print(\"I ate \", pizza_slice_count, \" pizzas last weekend\")\n",
    "\n",
    "# you can reassign the variable to a different number\n",
    "pizza_slice_count = 2\n",
    "print(\"I will eat \", pizza_slice_count, \" pizzas last weekend\")"
   ]
  },
  {
   "cell_type": "markdown",
   "metadata": {},
   "source": [
    "## Data Types"
   ]
  },
  {
   "cell_type": "markdown",
   "metadata": {},
   "source": [
    "You can have different datatypes in your program. Some of the main datatypes are \n",
    "* Numbers\n",
    "* Strings\n",
    "* List\n",
    "* Dictionary"
   ]
  },
  {
   "cell_type": "code",
   "execution_count": 20,
   "metadata": {},
   "outputs": [
    {
     "name": "stdout",
     "output_type": "stream",
     "text": [
      "10\n"
     ]
    }
   ],
   "source": [
    "# natural numbers\n",
    "10"
   ]
  },
  {
   "cell_type": "code",
   "execution_count": 19,
   "metadata": {},
   "outputs": [
    {
     "data": {
      "text/plain": [
       "1.2"
      ]
     },
     "execution_count": 19,
     "metadata": {},
     "output_type": "execute_result"
    }
   ],
   "source": [
    "# decimals - also known as floating point numbers\n",
    "1.2"
   ]
  },
  {
   "cell_type": "code",
   "execution_count": 10,
   "metadata": {},
   "outputs": [
    {
     "data": {
      "text/plain": [
       "('Anna', 'Maths', 'Computer Science')"
      ]
     },
     "execution_count": 10,
     "metadata": {},
     "output_type": "execute_result"
    }
   ],
   "source": [
    "# strings - any text within a single or a double quotes is a string\n",
    "\"Anna\", \"Maths\", \"Computer Science\""
   ]
  },
  {
   "cell_type": "code",
   "execution_count": 15,
   "metadata": {},
   "outputs": [
    {
     "data": {
      "text/plain": [
       "['California', 'Washington', 'Texas', 'Arizona', 'Utah']"
      ]
     },
     "execution_count": 15,
     "metadata": {},
     "output_type": "execute_result"
    }
   ],
   "source": [
    "# List - For e.g: list of states in United states\n",
    "[\"California\", \"Washington\", \"Texas\", \"Arizona\", \"Utah\"]q"
   ]
  },
  {
   "cell_type": "code",
   "execution_count": 16,
   "metadata": {},
   "outputs": [
    {
     "data": {
      "text/plain": [
       "[0, 1, 2, 3, 4, 5, 6, 7, 8, 9, 10]"
      ]
     },
     "execution_count": 16,
     "metadata": {},
     "output_type": "execute_result"
    }
   ],
   "source": [
    "# For e.g: list of numbers < 10\n",
    "[ 0, 1, 2, 3, 4, 5, 6, 7, 8, 9, 10]"
   ]
  },
  {
   "cell_type": "code",
   "execution_count": 21,
   "metadata": {},
   "outputs": [
    {
     "data": {
      "text/plain": [
       "{'Tennis': 'Serena Villiams',\n",
       " 'Football': 'Peyton Manning',\n",
       " 'Basketball': 'Steph Curry'}"
      ]
     },
     "execution_count": 21,
     "metadata": {},
     "output_type": "execute_result"
    }
   ],
   "source": [
    "# Dictionary - For e.g : map of sports to players\n",
    "{\n",
    "    \"Tennis\" : \"Serena Villiams\",\n",
    "    \"Football\" : \"Peyton Manning\",\n",
    "    \"Basketball\" : \"Steph Curry\"\n",
    "}"
   ]
  },
  {
   "cell_type": "code",
   "execution_count": 23,
   "metadata": {},
   "outputs": [
    {
     "data": {
      "text/plain": [
       "(int, str, list, dict)"
      ]
     },
     "execution_count": 23,
     "metadata": {},
     "output_type": "execute_result"
    }
   ],
   "source": [
    "# You can find the type of the data using the type command\n",
    "type(10), type(\"abc\"), type([1,2,3]), type({\"a\" : 1})"
   ]
  }
 ],
 "metadata": {
  "kernelspec": {
   "display_name": "Python 3",
   "language": "python",
   "name": "python3"
  },
  "language_info": {
   "codemirror_mode": {
    "name": "ipython",
    "version": 3
   },
   "file_extension": ".py",
   "mimetype": "text/x-python",
   "name": "python",
   "nbconvert_exporter": "python",
   "pygments_lexer": "ipython3",
   "version": "3.7.3"
  }
 },
 "nbformat": 4,
 "nbformat_minor": 2
}
